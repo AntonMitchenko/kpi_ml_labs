{
 "cells": [
  {
   "cell_type": "markdown",
   "id": "8da4c430",
   "metadata": {},
   "source": [
    "## Лабораторна робота №1. Використання бібліотек Pandas та Matplotlib"
   ]
  },
  {
   "cell_type": "markdown",
   "id": "01990f0c",
   "metadata": {},
   "source": [
    "## 0. Імпорт потрібних бібліотек"
   ]
  },
  {
   "cell_type": "code",
   "execution_count": 1,
   "id": "50e3d15b",
   "metadata": {},
   "outputs": [],
   "source": [
    "import matplotlib.pyplot as plt\n",
    "import pandas as pd\n",
    "import random"
   ]
  },
  {
   "cell_type": "markdown",
   "id": "5b379523",
   "metadata": {},
   "source": [
    "## 1. Відкрити та зчитати файл з даними."
   ]
  },
  {
   "cell_type": "code",
   "execution_count": 2,
   "id": "5c7b8926",
   "metadata": {},
   "outputs": [],
   "source": [
    "# Застосування префіксу \"r\" дозволяє забезпечити, що рядок буде трактуватися буквально,\n",
    "# і жодні спеціальні символи (такі як \\n або \\t) не будуть інтерпретовані як управляючі послідовності.\n",
    "\n",
    "Datafile = r'Vehicle_Sales.csv'\n",
    "df = pd.read_csv(Datafile)"
   ]
  },
  {
   "cell_type": "markdown",
   "id": "40b055e9",
   "metadata": {},
   "source": [
    "## 2. Визначити та вивести кількість записів та кількість полів у кожному записі."
   ]
  },
  {
   "cell_type": "code",
   "execution_count": 3,
   "id": "e233cc58",
   "metadata": {},
   "outputs": [
    {
     "data": {
      "text/html": [
       "<div>\n",
       "<style scoped>\n",
       "    .dataframe tbody tr th:only-of-type {\n",
       "        vertical-align: middle;\n",
       "    }\n",
       "\n",
       "    .dataframe tbody tr th {\n",
       "        vertical-align: top;\n",
       "    }\n",
       "\n",
       "    .dataframe thead th {\n",
       "        text-align: right;\n",
       "    }\n",
       "</style>\n",
       "<table border=\"1\" class=\"dataframe\">\n",
       "  <thead>\n",
       "    <tr style=\"text-align: right;\">\n",
       "      <th></th>\n",
       "      <th>Year</th>\n",
       "      <th>Month</th>\n",
       "      <th>New</th>\n",
       "      <th>Used</th>\n",
       "      <th>Total Sales New</th>\n",
       "      <th>Total Sales Used</th>\n",
       "    </tr>\n",
       "  </thead>\n",
       "  <tbody>\n",
       "    <tr>\n",
       "      <th>0</th>\n",
       "      <td>2002</td>\n",
       "      <td>JAN</td>\n",
       "      <td>31106</td>\n",
       "      <td>49927</td>\n",
       "      <td>$755015820</td>\n",
       "      <td>$386481929</td>\n",
       "    </tr>\n",
       "    <tr>\n",
       "      <th>1</th>\n",
       "      <td>2002</td>\n",
       "      <td>FEB</td>\n",
       "      <td>27520</td>\n",
       "      <td>50982</td>\n",
       "      <td>$664454223</td>\n",
       "      <td>$361353242</td>\n",
       "    </tr>\n",
       "    <tr>\n",
       "      <th>2</th>\n",
       "      <td>2002</td>\n",
       "      <td>MAR</td>\n",
       "      <td>34225</td>\n",
       "      <td>58794</td>\n",
       "      <td>$805666244</td>\n",
       "      <td>$419385387</td>\n",
       "    </tr>\n",
       "    <tr>\n",
       "      <th>3</th>\n",
       "      <td>2002</td>\n",
       "      <td>APR</td>\n",
       "      <td>36452</td>\n",
       "      <td>59817</td>\n",
       "      <td>$846368297</td>\n",
       "      <td>$433061150</td>\n",
       "    </tr>\n",
       "    <tr>\n",
       "      <th>4</th>\n",
       "      <td>2002</td>\n",
       "      <td>MAY</td>\n",
       "      <td>37359</td>\n",
       "      <td>60577</td>\n",
       "      <td>$855005784</td>\n",
       "      <td>$442569410</td>\n",
       "    </tr>\n",
       "    <tr>\n",
       "      <th>...</th>\n",
       "      <td>...</td>\n",
       "      <td>...</td>\n",
       "      <td>...</td>\n",
       "      <td>...</td>\n",
       "      <td>...</td>\n",
       "      <td>...</td>\n",
       "    </tr>\n",
       "    <tr>\n",
       "      <th>181</th>\n",
       "      <td>2017</td>\n",
       "      <td>FEB</td>\n",
       "      <td>22413</td>\n",
       "      <td>55989</td>\n",
       "      <td>$776222008</td>\n",
       "      <td>$592255229</td>\n",
       "    </tr>\n",
       "    <tr>\n",
       "      <th>182</th>\n",
       "      <td>2017</td>\n",
       "      <td>MAR</td>\n",
       "      <td>27838</td>\n",
       "      <td>72717</td>\n",
       "      <td>$926703144</td>\n",
       "      <td>$744746293</td>\n",
       "    </tr>\n",
       "    <tr>\n",
       "      <th>183</th>\n",
       "      <td>2017</td>\n",
       "      <td>APR</td>\n",
       "      <td>26135</td>\n",
       "      <td>62740</td>\n",
       "      <td>$867722291</td>\n",
       "      <td>$654981615</td>\n",
       "    </tr>\n",
       "    <tr>\n",
       "      <th>184</th>\n",
       "      <td>2017</td>\n",
       "      <td>MAY</td>\n",
       "      <td>28931</td>\n",
       "      <td>68296</td>\n",
       "      <td>$937804113</td>\n",
       "      <td>$718689038</td>\n",
       "    </tr>\n",
       "    <tr>\n",
       "      <th>185</th>\n",
       "      <td>2017</td>\n",
       "      <td>JUN</td>\n",
       "      <td>31835</td>\n",
       "      <td>67827</td>\n",
       "      <td>$1019153457</td>\n",
       "      <td>$720739448</td>\n",
       "    </tr>\n",
       "  </tbody>\n",
       "</table>\n",
       "<p>186 rows × 6 columns</p>\n",
       "</div>"
      ],
      "text/plain": [
       "     Year Month    New   Used Total Sales New Total Sales Used\n",
       "0    2002   JAN  31106  49927      $755015820       $386481929\n",
       "1    2002   FEB  27520  50982      $664454223       $361353242\n",
       "2    2002   MAR  34225  58794      $805666244       $419385387\n",
       "3    2002   APR  36452  59817      $846368297       $433061150\n",
       "4    2002   MAY  37359  60577      $855005784       $442569410\n",
       "..    ...   ...    ...    ...             ...              ...\n",
       "181  2017   FEB  22413  55989      $776222008       $592255229\n",
       "182  2017   MAR  27838  72717      $926703144       $744746293\n",
       "183  2017   APR  26135  62740      $867722291       $654981615\n",
       "184  2017   MAY  28931  68296      $937804113       $718689038\n",
       "185  2017   JUN  31835  67827     $1019153457       $720739448\n",
       "\n",
       "[186 rows x 6 columns]"
      ]
     },
     "execution_count": 3,
     "metadata": {},
     "output_type": "execute_result"
    }
   ],
   "source": [
    "df"
   ]
  },
  {
   "cell_type": "markdown",
   "id": "98bc7956",
   "metadata": {},
   "source": [
    "## 3. Вивести К+7 перших та 5К-3 останніх записів."
   ]
  },
  {
   "cell_type": "code",
   "execution_count": 4,
   "id": "9b6c4c41",
   "metadata": {},
   "outputs": [
    {
     "name": "stdout",
     "output_type": "stream",
     "text": [
      "Enter value k - 6\n"
     ]
    }
   ],
   "source": [
    "k = int(input('Enter value k - '))"
   ]
  },
  {
   "cell_type": "code",
   "execution_count": 5,
   "id": "aa1bf5d5",
   "metadata": {},
   "outputs": [
    {
     "name": "stdout",
     "output_type": "stream",
     "text": [
      "\n",
      "K = 6 \n",
      "     Year Month    New   Used Total Sales New Total Sales Used\n",
      "0   2002   JAN  31106  49927      $755015820       $386481929\n",
      "1   2002   FEB  27520  50982      $664454223       $361353242\n",
      "2   2002   MAR  34225  58794      $805666244       $419385387\n",
      "3   2002   APR  36452  59817      $846368297       $433061150\n",
      "4   2002   MAY  37359  60577      $855005784       $442569410\n",
      "5   2002   JUN  36348  55415      $830251613       $414731166\n",
      "6   2002   JUL  30367  55235      $700530891       $384673023\n",
      "7   2002   AUG  38965  60310      $934484212       $455453720\n",
      "8   2002   SEP  39740  55485      $950502055       $432112270\n",
      "9   2002   OCT  35276  58020      $865326154       $456738532\n",
      "10  2002   NOV  27812  49066      $691740703       $379196575\n",
      "11  2002   DEC  26994  42461      $673208880       $374453368\n",
      "12  2003   JAN  34707  49481      $860730784       $392438833 \n",
      "\n",
      "      Year Month    New   Used Total Sales New Total Sales Used\n",
      "27   2004   APR  37478  64059      $919596999       $472014215\n",
      "28   2004   MAY  37819  58589      $916954404       $431929913\n",
      "29   2004   JUN  42758  65073     $1038212129       $486125865\n",
      "30   2004   JUL  38329  60994      $958264422       $474975823\n",
      "31   2004   AUG  37175  61106      $950681015       $470372767\n",
      "..    ...   ...    ...    ...             ...              ...\n",
      "181  2017   FEB  22413  55989      $776222008       $592255229\n",
      "182  2017   MAR  27838  72717      $926703144       $744746293\n",
      "183  2017   APR  26135  62740      $867722291       $654981615\n",
      "184  2017   MAY  28931  68296      $937804113       $718689038\n",
      "185  2017   JUN  31835  67827     $1019153457       $720739448\n",
      "\n",
      "[159 rows x 6 columns]\n"
     ]
    }
   ],
   "source": [
    "print(f\"\\nK = {k} \\n\", df[0:k+7], \"\\n\\n\", df[5*k-3:])"
   ]
  },
  {
   "cell_type": "code",
   "execution_count": 6,
   "id": "386373ba",
   "metadata": {},
   "outputs": [
    {
     "data": {
      "text/plain": [
       "(    Year Month    New   Used Total Sales New Total Sales Used\n",
       " 0   2002   JAN  31106  49927      $755015820       $386481929\n",
       " 1   2002   FEB  27520  50982      $664454223       $361353242\n",
       " 2   2002   MAR  34225  58794      $805666244       $419385387\n",
       " 3   2002   APR  36452  59817      $846368297       $433061150\n",
       " 4   2002   MAY  37359  60577      $855005784       $442569410\n",
       " 5   2002   JUN  36348  55415      $830251613       $414731166\n",
       " 6   2002   JUL  30367  55235      $700530891       $384673023\n",
       " 7   2002   AUG  38965  60310      $934484212       $455453720\n",
       " 8   2002   SEP  39740  55485      $950502055       $432112270\n",
       " 9   2002   OCT  35276  58020      $865326154       $456738532\n",
       " 10  2002   NOV  27812  49066      $691740703       $379196575\n",
       " 11  2002   DEC  26994  42461      $673208880       $374453368\n",
       " 12  2003   JAN  34707  49481      $860730784       $392438833,\n",
       "      Year Month    New   Used Total Sales New Total Sales Used\n",
       " 159  2015   APR  32240  64350      $988046475       $632625988\n",
       " 160  2015   MAY  29626  57563      $898866880       $558692764\n",
       " 161  2015   JUN  34695  54124     $1051510311       $581809219\n",
       " 162  2015   JUL  34179  62920     $1062988492       $650454487\n",
       " 163  2015   AUG  30125  61268      $958163037       $618794306\n",
       " 164  2015   SEP  32154  62182     $1035533325       $632452008\n",
       " 165  2015   OCT  30552  62954      $991747766       $653329361\n",
       " 166  2015   NOV  25828  54354      $858213639       $568019044\n",
       " 167  2015   DEC  29062  56592      $969641175       $621925235\n",
       " 168  2016   JAN  25835  45285      $878106665       $518918140\n",
       " 169  2016   FEB  24257  58184      $813473347       $581005001\n",
       " 170  2016   MAR  30675  73163      $988609546       $723865536\n",
       " 171  2016   APR  29787  66793      $943502901       $693293383\n",
       " 172  2016   MAY  31525  65659     $1018042636       $712783380\n",
       " 173  2016   JUN  34366  68750     $1094447550       $751886189\n",
       " 174  2016   JUL  29636  62545      $960502273       $691521741\n",
       " 175  2016   AUG  29945  70887      $994401467       $780694327\n",
       " 176  2016   SEP  28544  66056      $976643490       $742588270\n",
       " 177  2016   OCT  27082  61678      $907244735       $685808210\n",
       " 178  2016   NOV  25381  58037      $857844856       $641353419\n",
       " 179  2016   DEC  26205  56234      $926735097       $655654762\n",
       " 180  2017   JAN  28827  56583     $1000285431       $674078790\n",
       " 181  2017   FEB  22413  55989      $776222008       $592255229\n",
       " 182  2017   MAR  27838  72717      $926703144       $744746293\n",
       " 183  2017   APR  26135  62740      $867722291       $654981615\n",
       " 184  2017   MAY  28931  68296      $937804113       $718689038\n",
       " 185  2017   JUN  31835  67827     $1019153457       $720739448)"
      ]
     },
     "execution_count": 6,
     "metadata": {},
     "output_type": "execute_result"
    }
   ],
   "source": [
    "df.head(k+7), df.tail(5*k-3)"
   ]
  },
  {
   "cell_type": "markdown",
   "id": "5d51e572",
   "metadata": {},
   "source": [
    "## 4. Визначити та вивести тип полів кожного запису."
   ]
  },
  {
   "cell_type": "code",
   "execution_count": 7,
   "id": "1e83698d",
   "metadata": {},
   "outputs": [
    {
     "data": {
      "text/plain": [
       "Year                 int64\n",
       "Month               object\n",
       "New                  int64\n",
       "Used                 int64\n",
       "Total Sales New     object\n",
       "Total Sales Used    object\n",
       "dtype: object"
      ]
     },
     "execution_count": 7,
     "metadata": {},
     "output_type": "execute_result"
    }
   ],
   "source": [
    "df.dtypes"
   ]
  },
  {
   "cell_type": "markdown",
   "id": "13e8676b",
   "metadata": {},
   "source": [
    "## 5. Привести поля, що відповідають обсягам продаж, до числового вигляду(показати, що це виконано)."
   ]
  },
  {
   "cell_type": "code",
   "execution_count": 8,
   "id": "adb80977",
   "metadata": {},
   "outputs": [],
   "source": [
    "df['Total Sales New'] = df['Total Sales New'].map(lambda x: x.lstrip('$'))\n",
    "df['Total Sales Used'] = df['Total Sales Used'].map(lambda x: x.lstrip('$'))\n",
    "df = df.astype({'Total Sales New': int, 'Total Sales Used': int})"
   ]
  },
  {
   "cell_type": "code",
   "execution_count": 9,
   "id": "5c4f7814",
   "metadata": {},
   "outputs": [
    {
     "data": {
      "text/plain": [
       "Year                 int64\n",
       "Month               object\n",
       "New                  int64\n",
       "Used                 int64\n",
       "Total Sales New      int32\n",
       "Total Sales Used     int32\n",
       "dtype: object"
      ]
     },
     "execution_count": 9,
     "metadata": {},
     "output_type": "execute_result"
    }
   ],
   "source": [
    "df.dtypes"
   ]
  },
  {
   "cell_type": "markdown",
   "id": "f75c82b8",
   "metadata": {},
   "source": [
    "## 6. Ввести нові поля:"
   ]
  },
  {
   "cell_type": "markdown",
   "id": "acf66489",
   "metadata": {},
   "source": [
    "a. Сумарний обсяг продаж автомобілів (нових та б/в) у кожний\n",
    "період;"
   ]
  },
  {
   "cell_type": "code",
   "execution_count": 10,
   "id": "4c9994ec",
   "metadata": {},
   "outputs": [],
   "source": [
    "df['Summ sold'] = df['New'] + df['Used']"
   ]
  },
  {
   "cell_type": "markdown",
   "id": "d823a8b8",
   "metadata": {},
   "source": [
    "b. Сумарний дохід від продажу автомобілів (нових та б/в) у кожний\n",
    "період;"
   ]
  },
  {
   "cell_type": "code",
   "execution_count": 11,
   "id": "b983fdce",
   "metadata": {},
   "outputs": [],
   "source": [
    "df['Summ income'] = df[['Total Sales New', 'Total Sales Used']].sum(axis=1)"
   ]
  },
  {
   "cell_type": "markdown",
   "id": "348aaf91",
   "metadata": {},
   "source": [
    "c. Різницю в обсязі продаж нових та б/в автомобілів у кожній\n",
    "період."
   ]
  },
  {
   "cell_type": "code",
   "execution_count": 12,
   "id": "93663113",
   "metadata": {},
   "outputs": [],
   "source": [
    "df['Sales difference'] = df['Total Sales New'] - df['Total Sales Used']"
   ]
  },
  {
   "cell_type": "code",
   "execution_count": 13,
   "id": "35f3b813",
   "metadata": {},
   "outputs": [
    {
     "data": {
      "text/html": [
       "<div>\n",
       "<style scoped>\n",
       "    .dataframe tbody tr th:only-of-type {\n",
       "        vertical-align: middle;\n",
       "    }\n",
       "\n",
       "    .dataframe tbody tr th {\n",
       "        vertical-align: top;\n",
       "    }\n",
       "\n",
       "    .dataframe thead th {\n",
       "        text-align: right;\n",
       "    }\n",
       "</style>\n",
       "<table border=\"1\" class=\"dataframe\">\n",
       "  <thead>\n",
       "    <tr style=\"text-align: right;\">\n",
       "      <th></th>\n",
       "      <th>Year</th>\n",
       "      <th>Month</th>\n",
       "      <th>New</th>\n",
       "      <th>Used</th>\n",
       "      <th>Total Sales New</th>\n",
       "      <th>Total Sales Used</th>\n",
       "      <th>Summ sold</th>\n",
       "      <th>Summ income</th>\n",
       "      <th>Sales difference</th>\n",
       "    </tr>\n",
       "  </thead>\n",
       "  <tbody>\n",
       "    <tr>\n",
       "      <th>0</th>\n",
       "      <td>2002</td>\n",
       "      <td>JAN</td>\n",
       "      <td>31106</td>\n",
       "      <td>49927</td>\n",
       "      <td>755015820</td>\n",
       "      <td>386481929</td>\n",
       "      <td>81033</td>\n",
       "      <td>1141497749</td>\n",
       "      <td>368533891</td>\n",
       "    </tr>\n",
       "    <tr>\n",
       "      <th>1</th>\n",
       "      <td>2002</td>\n",
       "      <td>FEB</td>\n",
       "      <td>27520</td>\n",
       "      <td>50982</td>\n",
       "      <td>664454223</td>\n",
       "      <td>361353242</td>\n",
       "      <td>78502</td>\n",
       "      <td>1025807465</td>\n",
       "      <td>303100981</td>\n",
       "    </tr>\n",
       "    <tr>\n",
       "      <th>2</th>\n",
       "      <td>2002</td>\n",
       "      <td>MAR</td>\n",
       "      <td>34225</td>\n",
       "      <td>58794</td>\n",
       "      <td>805666244</td>\n",
       "      <td>419385387</td>\n",
       "      <td>93019</td>\n",
       "      <td>1225051631</td>\n",
       "      <td>386280857</td>\n",
       "    </tr>\n",
       "    <tr>\n",
       "      <th>3</th>\n",
       "      <td>2002</td>\n",
       "      <td>APR</td>\n",
       "      <td>36452</td>\n",
       "      <td>59817</td>\n",
       "      <td>846368297</td>\n",
       "      <td>433061150</td>\n",
       "      <td>96269</td>\n",
       "      <td>1279429447</td>\n",
       "      <td>413307147</td>\n",
       "    </tr>\n",
       "    <tr>\n",
       "      <th>4</th>\n",
       "      <td>2002</td>\n",
       "      <td>MAY</td>\n",
       "      <td>37359</td>\n",
       "      <td>60577</td>\n",
       "      <td>855005784</td>\n",
       "      <td>442569410</td>\n",
       "      <td>97936</td>\n",
       "      <td>1297575194</td>\n",
       "      <td>412436374</td>\n",
       "    </tr>\n",
       "    <tr>\n",
       "      <th>...</th>\n",
       "      <td>...</td>\n",
       "      <td>...</td>\n",
       "      <td>...</td>\n",
       "      <td>...</td>\n",
       "      <td>...</td>\n",
       "      <td>...</td>\n",
       "      <td>...</td>\n",
       "      <td>...</td>\n",
       "      <td>...</td>\n",
       "    </tr>\n",
       "    <tr>\n",
       "      <th>181</th>\n",
       "      <td>2017</td>\n",
       "      <td>FEB</td>\n",
       "      <td>22413</td>\n",
       "      <td>55989</td>\n",
       "      <td>776222008</td>\n",
       "      <td>592255229</td>\n",
       "      <td>78402</td>\n",
       "      <td>1368477237</td>\n",
       "      <td>183966779</td>\n",
       "    </tr>\n",
       "    <tr>\n",
       "      <th>182</th>\n",
       "      <td>2017</td>\n",
       "      <td>MAR</td>\n",
       "      <td>27838</td>\n",
       "      <td>72717</td>\n",
       "      <td>926703144</td>\n",
       "      <td>744746293</td>\n",
       "      <td>100555</td>\n",
       "      <td>1671449437</td>\n",
       "      <td>181956851</td>\n",
       "    </tr>\n",
       "    <tr>\n",
       "      <th>183</th>\n",
       "      <td>2017</td>\n",
       "      <td>APR</td>\n",
       "      <td>26135</td>\n",
       "      <td>62740</td>\n",
       "      <td>867722291</td>\n",
       "      <td>654981615</td>\n",
       "      <td>88875</td>\n",
       "      <td>1522703906</td>\n",
       "      <td>212740676</td>\n",
       "    </tr>\n",
       "    <tr>\n",
       "      <th>184</th>\n",
       "      <td>2017</td>\n",
       "      <td>MAY</td>\n",
       "      <td>28931</td>\n",
       "      <td>68296</td>\n",
       "      <td>937804113</td>\n",
       "      <td>718689038</td>\n",
       "      <td>97227</td>\n",
       "      <td>1656493151</td>\n",
       "      <td>219115075</td>\n",
       "    </tr>\n",
       "    <tr>\n",
       "      <th>185</th>\n",
       "      <td>2017</td>\n",
       "      <td>JUN</td>\n",
       "      <td>31835</td>\n",
       "      <td>67827</td>\n",
       "      <td>1019153457</td>\n",
       "      <td>720739448</td>\n",
       "      <td>99662</td>\n",
       "      <td>1739892905</td>\n",
       "      <td>298414009</td>\n",
       "    </tr>\n",
       "  </tbody>\n",
       "</table>\n",
       "<p>186 rows × 9 columns</p>\n",
       "</div>"
      ],
      "text/plain": [
       "     Year Month    New   Used  Total Sales New  Total Sales Used  Summ sold  \\\n",
       "0    2002   JAN  31106  49927        755015820         386481929      81033   \n",
       "1    2002   FEB  27520  50982        664454223         361353242      78502   \n",
       "2    2002   MAR  34225  58794        805666244         419385387      93019   \n",
       "3    2002   APR  36452  59817        846368297         433061150      96269   \n",
       "4    2002   MAY  37359  60577        855005784         442569410      97936   \n",
       "..    ...   ...    ...    ...              ...               ...        ...   \n",
       "181  2017   FEB  22413  55989        776222008         592255229      78402   \n",
       "182  2017   MAR  27838  72717        926703144         744746293     100555   \n",
       "183  2017   APR  26135  62740        867722291         654981615      88875   \n",
       "184  2017   MAY  28931  68296        937804113         718689038      97227   \n",
       "185  2017   JUN  31835  67827       1019153457         720739448      99662   \n",
       "\n",
       "     Summ income  Sales difference  \n",
       "0     1141497749         368533891  \n",
       "1     1025807465         303100981  \n",
       "2     1225051631         386280857  \n",
       "3     1279429447         413307147  \n",
       "4     1297575194         412436374  \n",
       "..           ...               ...  \n",
       "181   1368477237         183966779  \n",
       "182   1671449437         181956851  \n",
       "183   1522703906         212740676  \n",
       "184   1656493151         219115075  \n",
       "185   1739892905         298414009  \n",
       "\n",
       "[186 rows x 9 columns]"
      ]
     },
     "execution_count": 13,
     "metadata": {},
     "output_type": "execute_result"
    }
   ],
   "source": [
    "df"
   ]
  },
  {
   "cell_type": "markdown",
   "id": "040ec1b4",
   "metadata": {},
   "source": [
    "## 7. Змінити порядок розташування полів таким чином:\n",
    "Рік, Місяць,Сумарний дохід, Дохід від продажу нових автомобілів,\n",
    "Дохід відпродажу б/в автомобілів, Сумарний обсяг продаж,\n",
    "Обсяг продаж нових автомобілів, Обсяг продаж б/в автомобілів,\n",
    "Різниця між обсягами продаж нових та б/в автомобілів."
   ]
  },
  {
   "cell_type": "code",
   "execution_count": 14,
   "id": "cdf8128c",
   "metadata": {},
   "outputs": [],
   "source": [
    "df = df[['Year', 'Month', 'Summ income','Total Sales New',\n",
    "         'Total Sales Used','Summ sold', 'New', 'Used', \n",
    "         'Sales difference']]"
   ]
  },
  {
   "cell_type": "code",
   "execution_count": 15,
   "id": "d5d28419",
   "metadata": {},
   "outputs": [
    {
     "data": {
      "text/html": [
       "<div>\n",
       "<style scoped>\n",
       "    .dataframe tbody tr th:only-of-type {\n",
       "        vertical-align: middle;\n",
       "    }\n",
       "\n",
       "    .dataframe tbody tr th {\n",
       "        vertical-align: top;\n",
       "    }\n",
       "\n",
       "    .dataframe thead th {\n",
       "        text-align: right;\n",
       "    }\n",
       "</style>\n",
       "<table border=\"1\" class=\"dataframe\">\n",
       "  <thead>\n",
       "    <tr style=\"text-align: right;\">\n",
       "      <th></th>\n",
       "      <th>Year</th>\n",
       "      <th>Month</th>\n",
       "      <th>Summ income</th>\n",
       "      <th>Total Sales New</th>\n",
       "      <th>Total Sales Used</th>\n",
       "      <th>Summ sold</th>\n",
       "      <th>New</th>\n",
       "      <th>Used</th>\n",
       "      <th>Sales difference</th>\n",
       "    </tr>\n",
       "  </thead>\n",
       "  <tbody>\n",
       "    <tr>\n",
       "      <th>0</th>\n",
       "      <td>2002</td>\n",
       "      <td>JAN</td>\n",
       "      <td>1141497749</td>\n",
       "      <td>755015820</td>\n",
       "      <td>386481929</td>\n",
       "      <td>81033</td>\n",
       "      <td>31106</td>\n",
       "      <td>49927</td>\n",
       "      <td>368533891</td>\n",
       "    </tr>\n",
       "    <tr>\n",
       "      <th>1</th>\n",
       "      <td>2002</td>\n",
       "      <td>FEB</td>\n",
       "      <td>1025807465</td>\n",
       "      <td>664454223</td>\n",
       "      <td>361353242</td>\n",
       "      <td>78502</td>\n",
       "      <td>27520</td>\n",
       "      <td>50982</td>\n",
       "      <td>303100981</td>\n",
       "    </tr>\n",
       "    <tr>\n",
       "      <th>2</th>\n",
       "      <td>2002</td>\n",
       "      <td>MAR</td>\n",
       "      <td>1225051631</td>\n",
       "      <td>805666244</td>\n",
       "      <td>419385387</td>\n",
       "      <td>93019</td>\n",
       "      <td>34225</td>\n",
       "      <td>58794</td>\n",
       "      <td>386280857</td>\n",
       "    </tr>\n",
       "    <tr>\n",
       "      <th>3</th>\n",
       "      <td>2002</td>\n",
       "      <td>APR</td>\n",
       "      <td>1279429447</td>\n",
       "      <td>846368297</td>\n",
       "      <td>433061150</td>\n",
       "      <td>96269</td>\n",
       "      <td>36452</td>\n",
       "      <td>59817</td>\n",
       "      <td>413307147</td>\n",
       "    </tr>\n",
       "    <tr>\n",
       "      <th>4</th>\n",
       "      <td>2002</td>\n",
       "      <td>MAY</td>\n",
       "      <td>1297575194</td>\n",
       "      <td>855005784</td>\n",
       "      <td>442569410</td>\n",
       "      <td>97936</td>\n",
       "      <td>37359</td>\n",
       "      <td>60577</td>\n",
       "      <td>412436374</td>\n",
       "    </tr>\n",
       "    <tr>\n",
       "      <th>...</th>\n",
       "      <td>...</td>\n",
       "      <td>...</td>\n",
       "      <td>...</td>\n",
       "      <td>...</td>\n",
       "      <td>...</td>\n",
       "      <td>...</td>\n",
       "      <td>...</td>\n",
       "      <td>...</td>\n",
       "      <td>...</td>\n",
       "    </tr>\n",
       "    <tr>\n",
       "      <th>181</th>\n",
       "      <td>2017</td>\n",
       "      <td>FEB</td>\n",
       "      <td>1368477237</td>\n",
       "      <td>776222008</td>\n",
       "      <td>592255229</td>\n",
       "      <td>78402</td>\n",
       "      <td>22413</td>\n",
       "      <td>55989</td>\n",
       "      <td>183966779</td>\n",
       "    </tr>\n",
       "    <tr>\n",
       "      <th>182</th>\n",
       "      <td>2017</td>\n",
       "      <td>MAR</td>\n",
       "      <td>1671449437</td>\n",
       "      <td>926703144</td>\n",
       "      <td>744746293</td>\n",
       "      <td>100555</td>\n",
       "      <td>27838</td>\n",
       "      <td>72717</td>\n",
       "      <td>181956851</td>\n",
       "    </tr>\n",
       "    <tr>\n",
       "      <th>183</th>\n",
       "      <td>2017</td>\n",
       "      <td>APR</td>\n",
       "      <td>1522703906</td>\n",
       "      <td>867722291</td>\n",
       "      <td>654981615</td>\n",
       "      <td>88875</td>\n",
       "      <td>26135</td>\n",
       "      <td>62740</td>\n",
       "      <td>212740676</td>\n",
       "    </tr>\n",
       "    <tr>\n",
       "      <th>184</th>\n",
       "      <td>2017</td>\n",
       "      <td>MAY</td>\n",
       "      <td>1656493151</td>\n",
       "      <td>937804113</td>\n",
       "      <td>718689038</td>\n",
       "      <td>97227</td>\n",
       "      <td>28931</td>\n",
       "      <td>68296</td>\n",
       "      <td>219115075</td>\n",
       "    </tr>\n",
       "    <tr>\n",
       "      <th>185</th>\n",
       "      <td>2017</td>\n",
       "      <td>JUN</td>\n",
       "      <td>1739892905</td>\n",
       "      <td>1019153457</td>\n",
       "      <td>720739448</td>\n",
       "      <td>99662</td>\n",
       "      <td>31835</td>\n",
       "      <td>67827</td>\n",
       "      <td>298414009</td>\n",
       "    </tr>\n",
       "  </tbody>\n",
       "</table>\n",
       "<p>186 rows × 9 columns</p>\n",
       "</div>"
      ],
      "text/plain": [
       "     Year Month  Summ income  Total Sales New  Total Sales Used  Summ sold  \\\n",
       "0    2002   JAN   1141497749        755015820         386481929      81033   \n",
       "1    2002   FEB   1025807465        664454223         361353242      78502   \n",
       "2    2002   MAR   1225051631        805666244         419385387      93019   \n",
       "3    2002   APR   1279429447        846368297         433061150      96269   \n",
       "4    2002   MAY   1297575194        855005784         442569410      97936   \n",
       "..    ...   ...          ...              ...               ...        ...   \n",
       "181  2017   FEB   1368477237        776222008         592255229      78402   \n",
       "182  2017   MAR   1671449437        926703144         744746293     100555   \n",
       "183  2017   APR   1522703906        867722291         654981615      88875   \n",
       "184  2017   MAY   1656493151        937804113         718689038      97227   \n",
       "185  2017   JUN   1739892905       1019153457         720739448      99662   \n",
       "\n",
       "       New   Used  Sales difference  \n",
       "0    31106  49927         368533891  \n",
       "1    27520  50982         303100981  \n",
       "2    34225  58794         386280857  \n",
       "3    36452  59817         413307147  \n",
       "4    37359  60577         412436374  \n",
       "..     ...    ...               ...  \n",
       "181  22413  55989         183966779  \n",
       "182  27838  72717         181956851  \n",
       "183  26135  62740         212740676  \n",
       "184  28931  68296         219115075  \n",
       "185  31835  67827         298414009  \n",
       "\n",
       "[186 rows x 9 columns]"
      ]
     },
     "execution_count": 15,
     "metadata": {},
     "output_type": "execute_result"
    }
   ],
   "source": [
    "df"
   ]
  },
  {
   "cell_type": "markdown",
   "id": "ce031444",
   "metadata": {},
   "source": [
    "## 8. Визначити та вивести:"
   ]
  },
  {
   "cell_type": "markdown",
   "id": "3b22b4c2",
   "metadata": {},
   "source": [
    "a. Рік та місяць, у які нових автомобілів було продано менше за б/в;"
   ]
  },
  {
   "cell_type": "code",
   "execution_count": 16,
   "id": "f13132ea",
   "metadata": {},
   "outputs": [],
   "source": [
    "filter_8a = df['New'] < df['Used']"
   ]
  },
  {
   "cell_type": "code",
   "execution_count": 17,
   "id": "7fa67db3",
   "metadata": {},
   "outputs": [
    {
     "name": "stdout",
     "output_type": "stream",
     "text": [
      "['2002 - JAN' '2002 - FEB' '2002 - MAR' '2002 - APR' '2002 - MAY'\n",
      " '2002 - JUN' '2002 - JUL' '2002 - AUG' '2002 - SEP' '2002 - OCT'\n",
      " '2002 - NOV' '2002 - DEC' '2003 - JAN' '2003 - FEB' '2003 - MAR'\n",
      " '2003 - APR' '2003 - MAY' '2003 - JUN' '2003 - JUL' '2003 - AUG'\n",
      " '2003 - SEP' '2003 - OCT' '2003 - NOV' '2003 - DEC' '2004 - JAN'\n",
      " '2004 - FEB' '2004 - MAR' '2004 - APR' '2004 - MAY' '2004 - JUN'\n",
      " '2004 - JUL' '2004 - AUG' '2004 - SEP' '2004 - OCT' '2004 - NOV'\n",
      " '2004 - DEC' '2005 - JAN' '2005 - FEB' '2005 - MAR' '2005 - APR'\n",
      " '2005 - MAY' '2005 - JUN' '2005 - JUL' '2005 - AUG' '2005 - SEP'\n",
      " '2005 - OCT' '2005 - NOV' '2005 - DEC' '2006 - JAN' '2006 - FEB'\n",
      " '2006 - MAR' '2006 - APR' '2006 - MAY' '2006 - JUN' '2006 - JUL'\n",
      " '2006 - AUG' '2006 - SEP' '2006 - OCT' '2006 - NOV' '2006 - DEC'\n",
      " '2007 - JAN' '2007 - FEB' '2007 - MAR' '2007 - APR' '2007 - MAY'\n",
      " '2007 - JUN' '2007 - JUL' '2007 - AUG' '2007 - SEP' '2007 - OCT'\n",
      " '2007 - NOV' '2007 - DEC' '2008 - JAN' '2008 - FEB' '2008 - MAR'\n",
      " '2008 - APR' '2008 - MAY' '2008 - JUN' '2008 - JUL' '2008 - AUG'\n",
      " '2008 - SEP' '2008 - OCT' '2008 - NOV' '2008 - DEC' '2009 - JAN'\n",
      " '2009 - FEB' '2009 - MAR' '2009 - APR' '2009 - MAY' '2009 - JUN'\n",
      " '2009 - JUL' '2009 - AUG' '2009 - SEP' '2009 - OCT' '2009 - NOV'\n",
      " '2009 - DEC' '2010 - JAN' '2010 - FEB' '2010 - MAR' '2010 - APR'\n",
      " '2010 - MAY' '2010 - JUN' '2010 - JUL' '2010 - AUG' '2010 - SEP'\n",
      " '2010 - OCT' '2010 - NOV' '2010 - DEC' '2011 - JAN' '2011 - FEB'\n",
      " '2011 - MAR' '2011 - APR' '2011 - MAY' '2011 - JUN' '2011 - JUL'\n",
      " '2011 - AUG' '2011 - SEP' '2011 - OCT' '2011 - NOV' '2011 - DEC'\n",
      " '2012 - JAN' '2012 - FEB' '2012 - MAR' '2012 - APR' '2012 - MAY'\n",
      " '2012 - JUN' '2012 - JUL' '2012 - AUG' '2012 - SEP' '2012 - OCT'\n",
      " '2012 - NOV' '2012 - DEC' '2013 - JAN' '2013 - FEB' '2013 - MAR'\n",
      " '2013 - APR' '2013 - MAY' '2013 - JUN' '2013 - JUL' '2013 - AUG'\n",
      " '2013 - SEP' '2013 - OCT' '2013 - NOV' '2013 - DEC' '2014 - JAN'\n",
      " '2014 - FEB' '2014 - MAR' '2014 - APR' '2014 - MAY' '2014 - JUN'\n",
      " '2014 - JUL' '2014 - AUG' '2014 - SEP' '2014 - OCT' '2014 - NOV'\n",
      " '2014 - DEC' '2015 - JAN' '2015 - FEB' '2015 - MAR' '2015 - APR'\n",
      " '2015 - MAY' '2015 - JUN' '2015 - JUL' '2015 - AUG' '2015 - SEP'\n",
      " '2015 - OCT' '2015 - NOV' '2015 - DEC' '2016 - JAN' '2016 - FEB'\n",
      " '2016 - MAR' '2016 - APR' '2016 - MAY' '2016 - JUN' '2016 - JUL'\n",
      " '2016 - AUG' '2016 - SEP' '2016 - OCT' '2016 - NOV' '2016 - DEC'\n",
      " '2017 - JAN' '2017 - FEB' '2017 - MAR' '2017 - APR' '2017 - MAY'\n",
      " '2017 - JUN']\n"
     ]
    }
   ],
   "source": [
    "print(df[filter_8a][['Year', 'Month']].apply(lambda j: ' - '.join([str(x) for x in j]), axis=1).values)"
   ]
  },
  {
   "cell_type": "markdown",
   "id": "e793e4a9",
   "metadata": {},
   "source": [
    "b. Рік та місяць, коли сумарний дохід був мінімальним;"
   ]
  },
  {
   "cell_type": "code",
   "execution_count": 18,
   "id": "893d684c",
   "metadata": {},
   "outputs": [],
   "source": [
    "summ_income_id_min = df['Summ income'].idxmin()"
   ]
  },
  {
   "cell_type": "code",
   "execution_count": 19,
   "id": "40e89724",
   "metadata": {},
   "outputs": [
    {
     "data": {
      "text/plain": [
       "Year     2010\n",
       "Month     FEB\n",
       "Name: 97, dtype: object"
      ]
     },
     "execution_count": 19,
     "metadata": {},
     "output_type": "execute_result"
    }
   ],
   "source": [
    "df.loc[summ_income_id_min][['Year', 'Month']]"
   ]
  },
  {
   "cell_type": "markdown",
   "id": "89e93ae7",
   "metadata": {},
   "source": [
    "c. Рік та місяць, коли було продано найбільше б/в авто."
   ]
  },
  {
   "cell_type": "code",
   "execution_count": 20,
   "id": "5254f74a",
   "metadata": {},
   "outputs": [],
   "source": [
    "summ_sold_id_max = df['Summ sold'].idxmax()"
   ]
  },
  {
   "cell_type": "code",
   "execution_count": 21,
   "id": "c5a1deb5",
   "metadata": {},
   "outputs": [
    {
     "data": {
      "text/plain": [
       "Year     2005\n",
       "Month     AUG\n",
       "Name: 43, dtype: object"
      ]
     },
     "execution_count": 21,
     "metadata": {},
     "output_type": "execute_result"
    }
   ],
   "source": [
    "df.loc[summ_sold_id_max][['Year', 'Month']]"
   ]
  },
  {
   "cell_type": "markdown",
   "id": "1254aead",
   "metadata": {},
   "source": [
    "## 9. Визначити та вивести:"
   ]
  },
  {
   "cell_type": "markdown",
   "id": "ca2c52d7",
   "metadata": {},
   "source": [
    "a. Сумарний обсяг продажу транспортних засобів за кожен рік;"
   ]
  },
  {
   "cell_type": "code",
   "execution_count": 22,
   "id": "77ddb25e",
   "metadata": {},
   "outputs": [],
   "source": [
    "obsyag_cols = ['Summ sold', 'New', 'Used']"
   ]
  },
  {
   "cell_type": "code",
   "execution_count": 23,
   "id": "b5a30f30",
   "metadata": {},
   "outputs": [
    {
     "data": {
      "text/html": [
       "<div>\n",
       "<style scoped>\n",
       "    .dataframe tbody tr th:only-of-type {\n",
       "        vertical-align: middle;\n",
       "    }\n",
       "\n",
       "    .dataframe tbody tr th {\n",
       "        vertical-align: top;\n",
       "    }\n",
       "\n",
       "    .dataframe thead th {\n",
       "        text-align: right;\n",
       "    }\n",
       "</style>\n",
       "<table border=\"1\" class=\"dataframe\">\n",
       "  <thead>\n",
       "    <tr style=\"text-align: right;\">\n",
       "      <th></th>\n",
       "      <th>Summ sold</th>\n",
       "      <th>New</th>\n",
       "      <th>Used</th>\n",
       "    </tr>\n",
       "    <tr>\n",
       "      <th>Year</th>\n",
       "      <th></th>\n",
       "      <th></th>\n",
       "      <th></th>\n",
       "    </tr>\n",
       "  </thead>\n",
       "  <tbody>\n",
       "    <tr>\n",
       "      <th>2002</th>\n",
       "      <td>1058253</td>\n",
       "      <td>402164</td>\n",
       "      <td>656089</td>\n",
       "    </tr>\n",
       "    <tr>\n",
       "      <th>2003</th>\n",
       "      <td>1103610</td>\n",
       "      <td>428252</td>\n",
       "      <td>675358</td>\n",
       "    </tr>\n",
       "    <tr>\n",
       "      <th>2004</th>\n",
       "      <td>1128185</td>\n",
       "      <td>428508</td>\n",
       "      <td>699677</td>\n",
       "    </tr>\n",
       "    <tr>\n",
       "      <th>2005</th>\n",
       "      <td>1125669</td>\n",
       "      <td>421834</td>\n",
       "      <td>703835</td>\n",
       "    </tr>\n",
       "    <tr>\n",
       "      <th>2006</th>\n",
       "      <td>1096250</td>\n",
       "      <td>399282</td>\n",
       "      <td>696968</td>\n",
       "    </tr>\n",
       "    <tr>\n",
       "      <th>2007</th>\n",
       "      <td>1056733</td>\n",
       "      <td>378184</td>\n",
       "      <td>678549</td>\n",
       "    </tr>\n",
       "    <tr>\n",
       "      <th>2008</th>\n",
       "      <td>927044</td>\n",
       "      <td>309159</td>\n",
       "      <td>617885</td>\n",
       "    </tr>\n",
       "    <tr>\n",
       "      <th>2009</th>\n",
       "      <td>857817</td>\n",
       "      <td>248928</td>\n",
       "      <td>608889</td>\n",
       "    </tr>\n",
       "    <tr>\n",
       "      <th>2010</th>\n",
       "      <td>894067</td>\n",
       "      <td>268022</td>\n",
       "      <td>626045</td>\n",
       "    </tr>\n",
       "    <tr>\n",
       "      <th>2011</th>\n",
       "      <td>913397</td>\n",
       "      <td>287669</td>\n",
       "      <td>625728</td>\n",
       "    </tr>\n",
       "    <tr>\n",
       "      <th>2012</th>\n",
       "      <td>944440</td>\n",
       "      <td>316762</td>\n",
       "      <td>627678</td>\n",
       "    </tr>\n",
       "    <tr>\n",
       "      <th>2013</th>\n",
       "      <td>979964</td>\n",
       "      <td>335209</td>\n",
       "      <td>644755</td>\n",
       "    </tr>\n",
       "    <tr>\n",
       "      <th>2014</th>\n",
       "      <td>997685</td>\n",
       "      <td>341219</td>\n",
       "      <td>656466</td>\n",
       "    </tr>\n",
       "    <tr>\n",
       "      <th>2015</th>\n",
       "      <td>1054364</td>\n",
       "      <td>357208</td>\n",
       "      <td>697156</td>\n",
       "    </tr>\n",
       "    <tr>\n",
       "      <th>2016</th>\n",
       "      <td>1096509</td>\n",
       "      <td>343238</td>\n",
       "      <td>753271</td>\n",
       "    </tr>\n",
       "    <tr>\n",
       "      <th>2017</th>\n",
       "      <td>550131</td>\n",
       "      <td>165979</td>\n",
       "      <td>384152</td>\n",
       "    </tr>\n",
       "  </tbody>\n",
       "</table>\n",
       "</div>"
      ],
      "text/plain": [
       "      Summ sold     New    Used\n",
       "Year                           \n",
       "2002    1058253  402164  656089\n",
       "2003    1103610  428252  675358\n",
       "2004    1128185  428508  699677\n",
       "2005    1125669  421834  703835\n",
       "2006    1096250  399282  696968\n",
       "2007    1056733  378184  678549\n",
       "2008     927044  309159  617885\n",
       "2009     857817  248928  608889\n",
       "2010     894067  268022  626045\n",
       "2011     913397  287669  625728\n",
       "2012     944440  316762  627678\n",
       "2013     979964  335209  644755\n",
       "2014     997685  341219  656466\n",
       "2015    1054364  357208  697156\n",
       "2016    1096509  343238  753271\n",
       "2017     550131  165979  384152"
      ]
     },
     "execution_count": 23,
     "metadata": {},
     "output_type": "execute_result"
    }
   ],
   "source": [
    "df.groupby('Year')[obsyag_cols].sum()"
   ]
  },
  {
   "cell_type": "markdown",
   "id": "015e1bee",
   "metadata": {},
   "source": [
    "b. Середній дохід від продажу б/в транспортних засобів в місяці М,\n",
    "де М – це порядковий номер у списку підгрупи за абеткою."
   ]
  },
  {
   "cell_type": "code",
   "execution_count": 24,
   "id": "000e1707",
   "metadata": {},
   "outputs": [],
   "source": [
    "y = 11  # Mitchenko Anton var 11\n",
    "monthes_list = df['Month'].unique()\n",
    "month_filter = df['Month'] == monthes_list[y-1]"
   ]
  },
  {
   "cell_type": "code",
   "execution_count": 25,
   "id": "861a4534",
   "metadata": {},
   "outputs": [
    {
     "name": "stdout",
     "output_type": "stream",
     "text": [
      "Середній дохід від продажу б/в транспортних засобів в місяці NOV =  437489410.2\n"
     ]
    }
   ],
   "source": [
    "print('Середній дохід від продажу б/в транспортних засобів в місяці NOV = ', df[month_filter]['Total Sales Used'].mean())"
   ]
  },
  {
   "cell_type": "markdown",
   "id": "e4e44603",
   "metadata": {},
   "source": [
    "## 10. Побудувати стовпчикову діаграму:\n",
    "обсягу продаж нових авто у році 20YY, де дві останні цифри року визначаються як 17 – порядковий номер у списку підгрупи за абеткою."
   ]
  },
  {
   "cell_type": "code",
   "execution_count": 26,
   "id": "e62176a3",
   "metadata": {},
   "outputs": [
    {
     "data": {
      "image/png": "[encoded data removed]",
      "text/plain": [
       "<Figure size 640x480 with 1 Axes>"
      ]
     },
     "metadata": {},
     "output_type": "display_data"
    }
   ],
   "source": [
    "plt.bar(df.query(\"Year == 2011\")['Month'], df.query(\"Year == 2011\")['New'])\n",
    "plt.show()"
   ]
  },
  {
   "cell_type": "markdown",
   "id": "907141f1",
   "metadata": {},
   "source": [
    "## 11. Побудувати кругову діаграму сумарного обсягу продаж за кожен рік."
   ]
  },
  {
   "cell_type": "code",
   "execution_count": 27,
   "id": "d81040dd",
   "metadata": {},
   "outputs": [
    {
     "data": {
      "image/png": "[encoded data removed]",
      "text/plain": [
       "<Figure size 640x480 with 1 Axes>"
      ]
     },
     "metadata": {},
     "output_type": "display_data"
    }
   ],
   "source": [
    "labels = ['2002', '2003', '2004', '2005',\n",
    "          '2006', '2007', '2008', '2009',\n",
    "          '2010', '2011', '2012', '2013',\n",
    "          '2014', '2015', '2016', '2017']\n",
    "obsyag_cols = ['Summ sold']\n",
    "myexplode = [random.uniform(0, 0.4) for i in range(len(labels))]\n",
    "\n",
    "plt.pie(df.groupby('Year')[obsyag_cols].sum()['Summ sold'],\n",
    "        autopct='%1.2f%%',\n",
    "        textprops={'fontsize':9},\n",
    "        labels=labels,\n",
    "        explode = myexplode,\n",
    "        shadow = True)\n",
    "\n",
    "plt.show()"
   ]
  },
  {
   "cell_type": "markdown",
   "id": "5fa39e14",
   "metadata": {},
   "source": [
    "## 12. Побудувати на одному графіку:"
   ]
  },
  {
   "cell_type": "markdown",
   "id": "1396364c",
   "metadata": {},
   "source": [
    "a. Сумарний дохід від продажу нових авто;"
   ]
  },
  {
   "cell_type": "code",
   "execution_count": 28,
   "id": "05367162",
   "metadata": {},
   "outputs": [],
   "source": [
    "ts_new = (df.groupby('Year').sum()['Total Sales New'])/10**9"
   ]
  },
  {
   "cell_type": "markdown",
   "id": "3ae25c4c",
   "metadata": {},
   "source": [
    "b. Сумарний дохід від продажу старих авто. "
   ]
  },
  {
   "cell_type": "code",
   "execution_count": 29,
   "id": "441bc08b",
   "metadata": {},
   "outputs": [],
   "source": [
    "ts_used = (df.groupby('Year').sum()['Total Sales Used'])/10**9"
   ]
  },
  {
   "cell_type": "code",
   "execution_count": 30,
   "id": "098258c1",
   "metadata": {},
   "outputs": [
    {
     "data": {
      "image/png": "[encoded data removed]",
      "text/plain": [
       "<Figure size 1000x600 with 1 Axes>"
      ]
     },
     "metadata": {},
     "output_type": "display_data"
    }
   ],
   "source": [
    "plt.figure(figsize=(10, 6))\n",
    "plt.plot(labels, ts_new, label ='Total Sales New')\n",
    "plt.plot(labels, ts_used, label ='Total Sales Used')\n",
    "plt.title(\"Сумарний дохід від продажів автівок у мільярдах 10^9\")\n",
    "plt.xlabel(\"Рік\")\n",
    "plt.ylabel(\"Дохід млрд.\")\n",
    "plt.legend()\n",
    "plt.grid()\n",
    "plt.show()"
   ]
  }
 ],
 "metadata": {
  "kernelspec": {
   "display_name": "Python 3 (ipykernel)",
   "language": "python",
   "name": "python3"
  },
  "language_info": {
   "codemirror_mode": {
    "name": "ipython",
    "version": 3
   },
   "file_extension": ".py",
   "mimetype": "text/x-python",
   "name": "python",
   "nbconvert_exporter": "python",
   "pygments_lexer": "ipython3",
   "version": "3.9.13"
  }
 },
 "nbformat": 4,
 "nbformat_minor": 5
}
